{
 "cells": [
  {
   "cell_type": "code",
   "execution_count": null,
   "id": "26099030",
   "metadata": {},
   "outputs": [],
   "source": [
    "Python = python is programming language\n",
    "Program= set of instruction to pass or to complete a task over machine"
   ]
  },
  {
   "cell_type": "code",
   "execution_count": null,
   "id": "b64a3d32",
   "metadata": {},
   "outputs": [],
   "source": [
    "Python is a high level programming language."
   ]
  },
  {
   "cell_type": "code",
   "execution_count": null,
   "id": "005ed59d",
   "metadata": {},
   "outputs": [],
   "source": [
    "high level = the code are easily understanble by human / human readable "
   ]
  },
  {
   "cell_type": "code",
   "execution_count": null,
   "id": "9f6d44ba",
   "metadata": {},
   "outputs": [],
   "source": [
    "print() = used to give the display the output"
   ]
  },
  {
   "cell_type": "code",
   "execution_count": 1,
   "id": "7cc59bcd",
   "metadata": {},
   "outputs": [
    {
     "name": "stdout",
     "output_type": "stream",
     "text": [
      "hello world\n"
     ]
    }
   ],
   "source": [
    "print(\"hello world\")"
   ]
  },
  {
   "cell_type": "code",
   "execution_count": null,
   "id": "961b326d",
   "metadata": {},
   "outputs": [],
   "source": [
    "Feature of Python\n",
    "1. High level = human readble\n",
    "2. Case sensitive\n",
    "3. Rich in libraries\n",
    "4.Interpreter"
   ]
  },
  {
   "cell_type": "code",
   "execution_count": null,
   "id": "a49b8ecc",
   "metadata": {},
   "outputs": [],
   "source": [
    "Rich in libraries -\n",
    "library is a pakage where we can have different type of built in function\n",
    "example \n",
    "numpy = to deal with array\n",
    "pandas = data manipulation\n",
    "statatics=  mathematical task over the data"
   ]
  },
  {
   "cell_type": "code",
   "execution_count": null,
   "id": "a2d8ed0f",
   "metadata": {},
   "outputs": [],
   "source": [
    "2. Case sensitive = lower case and upper case character(even if they are same ) are different "
   ]
  },
  {
   "cell_type": "code",
   "execution_count": null,
   "id": "da6cdf89",
   "metadata": {},
   "outputs": [],
   "source": [
    "A =10  # upper case\n",
    "a=10 #lower \n",
    "bat\n",
    "bAt"
   ]
  },
  {
   "cell_type": "code",
   "execution_count": 14,
   "id": "386f7083",
   "metadata": {},
   "outputs": [],
   "source": [
    "hello = 10\n",
    "Hello = 40"
   ]
  },
  {
   "cell_type": "code",
   "execution_count": 15,
   "id": "80abd199",
   "metadata": {},
   "outputs": [
    {
     "data": {
      "text/plain": [
       "10"
      ]
     },
     "execution_count": 15,
     "metadata": {},
     "output_type": "execute_result"
    }
   ],
   "source": [
    "hello"
   ]
  },
  {
   "cell_type": "code",
   "execution_count": null,
   "id": "579e79d1",
   "metadata": {},
   "outputs": [],
   "source": [
    "print# right\n",
    "Print #wrong \n",
    "return \n",
    "True  # true"
   ]
  },
  {
   "cell_type": "code",
   "execution_count": null,
   "id": "5e934d5f",
   "metadata": {},
   "outputs": [],
   "source": []
  },
  {
   "cell_type": "code",
   "execution_count": null,
   "id": "6ce263c3",
   "metadata": {},
   "outputs": [],
   "source": [
    "executaion = running a code by providing the command"
   ]
  },
  {
   "cell_type": "code",
   "execution_count": null,
   "id": "35338189",
   "metadata": {},
   "outputs": [],
   "source": [
    "1.Compiler = all of the code would get compiled using top to bottom approach in a single block\n",
    "2. Interpreter= in python our code executes line by line using the top to bottom approach "
   ]
  },
  {
   "cell_type": "code",
   "execution_count": 2,
   "id": "9c253395",
   "metadata": {},
   "outputs": [
    {
     "name": "stdout",
     "output_type": "stream",
     "text": [
      "cherry\n"
     ]
    }
   ],
   "source": [
    "print(\"cherry\")"
   ]
  },
  {
   "cell_type": "code",
   "execution_count": 3,
   "id": "f452f81f",
   "metadata": {},
   "outputs": [],
   "source": [
    "a= 10"
   ]
  },
  {
   "cell_type": "code",
   "execution_count": 4,
   "id": "6922ffa1",
   "metadata": {},
   "outputs": [
    {
     "data": {
      "text/plain": [
       "10"
      ]
     },
     "execution_count": 4,
     "metadata": {},
     "output_type": "execute_result"
    }
   ],
   "source": [
    "a"
   ]
  },
  {
   "cell_type": "code",
   "execution_count": null,
   "id": "1d65a7ba",
   "metadata": {},
   "outputs": [],
   "source": [
    "varaible are used to store a data\n",
    "varaible are the name that represents the data\n",
    "varaible  points towards the data"
   ]
  },
  {
   "cell_type": "raw",
   "id": "85305c22",
   "metadata": {},
   "source": [
    "rules for variable\n",
    "1. a avarible can not start number\n",
    "2. we cannaot use any of special character inside the variable( @ ! # $ %) expection  _\n",
    "3. one varaible will only store one data \n",
    "4. a keyword cannot be used a variable                                                               \n",
    "                                                               "
   ]
  },
  {
   "cell_type": "code",
   "execution_count": null,
   "id": "b7c7b961",
   "metadata": {},
   "outputs": [],
   "source": [
    "#1. a variable can not start number\n",
    "x=50"
   ]
  },
  {
   "cell_type": "code",
   "execution_count": 5,
   "id": "07312846",
   "metadata": {},
   "outputs": [
    {
     "ename": "SyntaxError",
     "evalue": "invalid decimal literal (1663881409.py, line 2)",
     "output_type": "error",
     "traceback": [
      "\u001b[1;36m  Cell \u001b[1;32mIn[5], line 2\u001b[1;36m\u001b[0m\n\u001b[1;33m    1a=30\u001b[0m\n\u001b[1;37m    ^\u001b[0m\n\u001b[1;31mSyntaxError\u001b[0m\u001b[1;31m:\u001b[0m invalid decimal literal\n"
     ]
    }
   ],
   "source": [
    "#1. a variable can not start number\n",
    "1a=30"
   ]
  },
  {
   "cell_type": "code",
   "execution_count": 6,
   "id": "bd7e10b9",
   "metadata": {},
   "outputs": [
    {
     "ename": "SyntaxError",
     "evalue": "invalid syntax. Maybe you meant '==' or ':=' instead of '='? (3686609202.py, line 2)",
     "output_type": "error",
     "traceback": [
      "\u001b[1;36m  Cell \u001b[1;32mIn[6], line 2\u001b[1;36m\u001b[0m\n\u001b[1;33m    @f= 23\u001b[0m\n\u001b[1;37m     ^\u001b[0m\n\u001b[1;31mSyntaxError\u001b[0m\u001b[1;31m:\u001b[0m invalid syntax. Maybe you meant '==' or ':=' instead of '='?\n"
     ]
    }
   ],
   "source": [
    "#2. we cannaot use any of special character inside the variable( @ ! # $ %)\n",
    "@f= 23"
   ]
  },
  {
   "cell_type": "code",
   "execution_count": 13,
   "id": "cdbfe8a6",
   "metadata": {},
   "outputs": [
    {
     "ename": "SyntaxError",
     "evalue": "cannot assign to expression here. Maybe you meant '==' instead of '='? (489201651.py, line 1)",
     "output_type": "error",
     "traceback": [
      "\u001b[1;36m  Cell \u001b[1;32mIn[13], line 1\u001b[1;36m\u001b[0m\n\u001b[1;33m    vo@y= 35\u001b[0m\n\u001b[1;37m    ^\u001b[0m\n\u001b[1;31mSyntaxError\u001b[0m\u001b[1;31m:\u001b[0m cannot assign to expression here. Maybe you meant '==' instead of '='?\n"
     ]
    }
   ],
   "source": [
    "vo@y= 35"
   ]
  },
  {
   "cell_type": "code",
   "execution_count": 8,
   "id": "7d163de7",
   "metadata": {},
   "outputs": [
    {
     "name": "stdout",
     "output_type": "stream",
     "text": [
      "10\n"
     ]
    }
   ],
   "source": [
    "# exception  _ underscore\n",
    "_r = 10 \n",
    "print(_r)"
   ]
  },
  {
   "cell_type": "code",
   "execution_count": 9,
   "id": "0f516ff0",
   "metadata": {},
   "outputs": [
    {
     "ename": "SyntaxError",
     "evalue": "invalid syntax (3400344079.py, line 2)",
     "output_type": "error",
     "traceback": [
      "\u001b[1;36m  Cell \u001b[1;32mIn[9], line 2\u001b[1;36m\u001b[0m\n\u001b[1;33m    v= 10 30\u001b[0m\n\u001b[1;37m          ^\u001b[0m\n\u001b[1;31mSyntaxError\u001b[0m\u001b[1;31m:\u001b[0m invalid syntax\n"
     ]
    }
   ],
   "source": [
    "#3. one varaible will only store one data\n",
    "v= 10 30"
   ]
  },
  {
   "cell_type": "raw",
   "id": "529ba6ad",
   "metadata": {},
   "source": [
    "varaible \n",
    "1. we can use alphabets \n",
    "2. we can use words\n",
    "3. in between the alaphabets we can number as well or either end of the words"
   ]
  },
  {
   "cell_type": "code",
   "execution_count": 10,
   "id": "0895d213",
   "metadata": {},
   "outputs": [
    {
     "data": {
      "text/plain": [
       "40"
      ]
     },
     "execution_count": 10,
     "metadata": {},
     "output_type": "execute_result"
    }
   ],
   "source": [
    "#1. we can use alphabets \n",
    "f= 40\n",
    "f"
   ]
  },
  {
   "cell_type": "code",
   "execution_count": null,
   "id": "73d92797",
   "metadata": {},
   "outputs": [],
   "source": [
    "#2. we can use words\n",
    "hello = 10\n",
    "apple = 20\n",
    "age = 45"
   ]
  },
  {
   "cell_type": "code",
   "execution_count": 11,
   "id": "6e364611",
   "metadata": {},
   "outputs": [
    {
     "data": {
      "text/plain": [
       "7"
      ]
     },
     "execution_count": 11,
     "metadata": {},
     "output_type": "execute_result"
    }
   ],
   "source": [
    "#3. in between the alaphabets we can number as well or either end of the words\n",
    "xyz1 =7\n",
    "xyz1"
   ]
  },
  {
   "cell_type": "raw",
   "id": "7f44091f",
   "metadata": {},
   "source": [
    "keywords= keywords are the reserved words that has specific task to do or that some meaning towrads the code .\n",
    "note: trick to find the keywords = it will appear in green"
   ]
  },
  {
   "cell_type": "code",
   "execution_count": null,
   "id": "125da828",
   "metadata": {},
   "outputs": [],
   "source": [
    "#example for keywords\n",
    "print, return , or , and , not , in "
   ]
  },
  {
   "cell_type": "code",
   "execution_count": 16,
   "id": "0fd8691a",
   "metadata": {},
   "outputs": [
    {
     "name": "stdout",
     "output_type": "stream",
     "text": [
      "35\n"
     ]
    }
   ],
   "source": [
    "#\n",
    "x=5\n",
    "y=30\n",
    "print(x+y)"
   ]
  },
  {
   "cell_type": "code",
   "execution_count": 17,
   "id": "fc902e10",
   "metadata": {},
   "outputs": [],
   "source": [
    "#interpreter\n",
    "c=5"
   ]
  },
  {
   "cell_type": "code",
   "execution_count": 18,
   "id": "5af179eb",
   "metadata": {},
   "outputs": [],
   "source": [
    "d=3"
   ]
  },
  {
   "cell_type": "code",
   "execution_count": 19,
   "id": "197c1d75",
   "metadata": {},
   "outputs": [
    {
     "data": {
      "text/plain": [
       "8"
      ]
     },
     "execution_count": 19,
     "metadata": {},
     "output_type": "execute_result"
    }
   ],
   "source": [
    "c+d"
   ]
  },
  {
   "cell_type": "code",
   "execution_count": null,
   "id": "ff5f39ac",
   "metadata": {},
   "outputs": [],
   "source": [
    "memory allocation  = to store a code memory  "
   ]
  },
  {
   "cell_type": "code",
   "execution_count": 20,
   "id": "45ad7c92",
   "metadata": {},
   "outputs": [],
   "source": [
    "e= 105"
   ]
  },
  {
   "cell_type": "code",
   "execution_count": 21,
   "id": "1d7a7d35",
   "metadata": {},
   "outputs": [],
   "source": [
    "f= 100"
   ]
  },
  {
   "cell_type": "code",
   "execution_count": 22,
   "id": "322001f6",
   "metadata": {},
   "outputs": [
    {
     "data": {
      "text/plain": [
       "105"
      ]
     },
     "execution_count": 22,
     "metadata": {},
     "output_type": "execute_result"
    }
   ],
   "source": [
    "e"
   ]
  },
  {
   "cell_type": "code",
   "execution_count": 24,
   "id": "63d818d6",
   "metadata": {},
   "outputs": [
    {
     "name": "stdout",
     "output_type": "stream",
     "text": [
      "19\n"
     ]
    },
    {
     "data": {
      "text/plain": [
       "20"
      ]
     },
     "execution_count": 24,
     "metadata": {},
     "output_type": "execute_result"
    }
   ],
   "source": [
    "hello=19\n",
    "Hello=20\n",
    "print(hello)\n",
    "Hello"
   ]
  },
  {
   "cell_type": "code",
   "execution_count": 27,
   "id": "6f877d10",
   "metadata": {},
   "outputs": [
    {
     "name": "stdout",
     "output_type": "stream",
     "text": [
      "56\n",
      "34\n"
     ]
    }
   ],
   "source": [
    "age=  56\n",
    "name = 34\n",
    "print(age)\n",
    "print(name)"
   ]
  },
  {
   "cell_type": "code",
   "execution_count": 29,
   "id": "a91692e6",
   "metadata": {},
   "outputs": [
    {
     "name": "stdout",
     "output_type": "stream",
     "text": [
      "30 20 10\n"
     ]
    }
   ],
   "source": [
    "v=10\n",
    "y=20\n",
    "z=30\n",
    "print(z, y ,v)"
   ]
  },
  {
   "cell_type": "code",
   "execution_count": null,
   "id": "13b723e3",
   "metadata": {},
   "outputs": [],
   "source": [
    "xyz   20  5.7"
   ]
  },
  {
   "cell_type": "code",
   "execution_count": null,
   "id": "0801ece2",
   "metadata": {},
   "outputs": [],
   "source": [
    "type() =used to show the datatype of the varible"
   ]
  },
  {
   "cell_type": "code",
   "execution_count": null,
   "id": "5e43d831",
   "metadata": {},
   "outputs": [],
   "source": [
    "Datatype = the category or the classification of a data(what type of data we are taking)\n",
    "type of datatype\n",
    "1. Built in \n",
    "2. User define"
   ]
  },
  {
   "cell_type": "code",
   "execution_count": null,
   "id": "ad4761b8",
   "metadata": {},
   "outputs": [],
   "source": [
    "Built in datatype = the datatype that is pre define for each and every lanaguge\n",
    "1. Integer = int\n",
    "2. Float\n",
    "3. String\n",
    "4. Boolean"
   ]
  },
  {
   "cell_type": "raw",
   "id": "434345f3",
   "metadata": {},
   "source": [
    "1. Integer(int) = all of the numeric values including the negative value are the integer type data\n",
    "ex\n",
    "var =10\n",
    "a= -40"
   ]
  },
  {
   "cell_type": "code",
   "execution_count": 30,
   "id": "aae8d432",
   "metadata": {},
   "outputs": [
    {
     "data": {
      "text/plain": [
       "int"
      ]
     },
     "execution_count": 30,
     "metadata": {},
     "output_type": "execute_result"
    }
   ],
   "source": [
    "xxx= 379\n",
    "type(xxx)"
   ]
  },
  {
   "cell_type": "code",
   "execution_count": 33,
   "id": "7bfe7049",
   "metadata": {},
   "outputs": [
    {
     "name": "stdout",
     "output_type": "stream",
     "text": [
      "<class 'int'>\n",
      "-456\n"
     ]
    }
   ],
   "source": [
    "var= -456\n",
    "print(type(var))\n",
    "print(var)"
   ]
  },
  {
   "cell_type": "code",
   "execution_count": null,
   "id": "e85165f0",
   "metadata": {},
   "outputs": [],
   "source": [
    "Float = all of the numbers that has decimal value  including the negaive deciaml number as well \n",
    "float"
   ]
  },
  {
   "cell_type": "code",
   "execution_count": 34,
   "id": "a0ddda81",
   "metadata": {},
   "outputs": [
    {
     "data": {
      "text/plain": [
       "float"
      ]
     },
     "execution_count": 34,
     "metadata": {},
     "output_type": "execute_result"
    }
   ],
   "source": [
    "var1 = 56.7\n",
    "type(var1)"
   ]
  },
  {
   "cell_type": "code",
   "execution_count": 36,
   "id": "455325fb",
   "metadata": {},
   "outputs": [
    {
     "data": {
      "text/plain": [
       "float"
      ]
     },
     "execution_count": 36,
     "metadata": {},
     "output_type": "execute_result"
    }
   ],
   "source": [
    "var2= -3.4\n",
    "type(var2)"
   ]
  },
  {
   "cell_type": "code",
   "execution_count": null,
   "id": "553d631b",
   "metadata": {},
   "outputs": [],
   "source": []
  }
 ],
 "metadata": {
  "kernelspec": {
   "display_name": "Python 3 (ipykernel)",
   "language": "python",
   "name": "python3"
  },
  "language_info": {
   "codemirror_mode": {
    "name": "ipython",
    "version": 3
   },
   "file_extension": ".py",
   "mimetype": "text/x-python",
   "name": "python",
   "nbconvert_exporter": "python",
   "pygments_lexer": "ipython3",
   "version": "3.11.4"
  }
 },
 "nbformat": 4,
 "nbformat_minor": 5
}
