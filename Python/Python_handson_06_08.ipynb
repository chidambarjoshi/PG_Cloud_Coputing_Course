{
 "cells": [
  {
   "cell_type": "raw",
   "id": "06709752",
   "metadata": {},
   "source": [
    "1. Create a python file named Module.\n",
    "a. Inside the file, define 4 methods/function named – addition, subtraction, multiplication,\n",
    "and division.\n",
    "b. Each method should only accept 2 arguments and should return the result of the\n",
    "operation performed in each method. For e.g., addition() should return the sum of\n",
    "two arguments.\n",
    "c. Save the Module file in .py format."
   ]
  },
  {
   "cell_type": "code",
   "execution_count": null,
   "id": "3c4c5c4e",
   "metadata": {},
   "outputs": [],
   "source": [
    "2. Open a new python file and import the Module.py file.\n",
    "a. Now call the 4 methods from the Module.py file, i.e., addition(), subtraction(),\n",
    "multiplication(), and division()."
   ]
  },
  {
   "cell_type": "code",
   "execution_count": 6,
   "id": "80340ca0",
   "metadata": {},
   "outputs": [],
   "source": [
    "import Module_01 as m"
   ]
  },
  {
   "cell_type": "code",
   "execution_count": 7,
   "id": "34ce6218",
   "metadata": {},
   "outputs": [
    {
     "data": {
      "text/plain": [
       "5"
      ]
     },
     "execution_count": 7,
     "metadata": {},
     "output_type": "execute_result"
    }
   ],
   "source": [
    "m.addition(2,3)"
   ]
  },
  {
   "cell_type": "code",
   "execution_count": 10,
   "id": "8f45eff1",
   "metadata": {},
   "outputs": [
    {
     "data": {
      "text/plain": [
       "-1"
      ]
     },
     "execution_count": 10,
     "metadata": {},
     "output_type": "execute_result"
    }
   ],
   "source": [
    "m.subtraction(3,4)"
   ]
  },
  {
   "cell_type": "code",
   "execution_count": null,
   "id": "57877068",
   "metadata": {},
   "outputs": [],
   "source": [
    "3. From the Module file, import only the addition() and pass the arguments so that it can\n",
    "display the result from the method."
   ]
  },
  {
   "cell_type": "code",
   "execution_count": 11,
   "id": "3341cd28",
   "metadata": {},
   "outputs": [
    {
     "data": {
      "text/plain": [
       "9"
      ]
     },
     "execution_count": 11,
     "metadata": {},
     "output_type": "execute_result"
    }
   ],
   "source": [
    "from Module_01 import addition\n",
    "addition(6,3)"
   ]
  },
  {
   "cell_type": "code",
   "execution_count": 12,
   "id": "8a3fa22a",
   "metadata": {},
   "outputs": [
    {
     "data": {
      "text/plain": [
       "3"
      ]
     },
     "execution_count": 12,
     "metadata": {},
     "output_type": "execute_result"
    }
   ],
   "source": [
    "from Module_01 import subtraction\n",
    "subtraction(6,3)"
   ]
  },
  {
   "cell_type": "raw",
   "id": "5e027b42",
   "metadata": {},
   "source": [
    "5. From the Module file, import both the multiplication() and division() and pass the\n",
    "arguments so that it can display the result from the methods.\n"
   ]
  },
  {
   "cell_type": "code",
   "execution_count": 13,
   "id": "11643e54",
   "metadata": {},
   "outputs": [
    {
     "data": {
      "text/plain": [
       "4"
      ]
     },
     "execution_count": 13,
     "metadata": {},
     "output_type": "execute_result"
    }
   ],
   "source": [
    "from Module_01 import multiplication, division\n",
    "multiplication(2,2)"
   ]
  },
  {
   "cell_type": "code",
   "execution_count": 14,
   "id": "293a3bbc",
   "metadata": {},
   "outputs": [
    {
     "data": {
      "text/plain": [
       "2.0"
      ]
     },
     "execution_count": 14,
     "metadata": {},
     "output_type": "execute_result"
    }
   ],
   "source": [
    "division(4,2)"
   ]
  },
  {
   "cell_type": "raw",
   "id": "4180d475",
   "metadata": {},
   "source": [
    "6. Create a python if-else program to check if the given numbers are greater or not"
   ]
  },
  {
   "cell_type": "code",
   "execution_count": 15,
   "id": "c18f316c",
   "metadata": {},
   "outputs": [
    {
     "name": "stdout",
     "output_type": "stream",
     "text": [
      "45 a is greater num\n"
     ]
    }
   ],
   "source": [
    "a=45\n",
    "b=25\n",
    "if a>b:\n",
    "    print(a, \"a is greater num\")\n",
    "else:\n",
    "    print(b,\" b is greater num\")"
   ]
  },
  {
   "cell_type": "code",
   "execution_count": null,
   "id": "bd3dc7b0",
   "metadata": {},
   "outputs": [],
   "source": [
    "7. Give the length of the all of the element that is present inside the list List1\n",
    "List1 = [\"Hi\", 'Hello','go','cherry','orange']\n"
   ]
  },
  {
   "cell_type": "code",
   "execution_count": 39,
   "id": "e2e534c6",
   "metadata": {},
   "outputs": [
    {
     "name": "stdout",
     "output_type": "stream",
     "text": [
      "2\n",
      "5\n",
      "2\n",
      "6\n",
      "6\n"
     ]
    }
   ],
   "source": [
    "List1 = [\"Hi\", 'Hello','go','cherry','orange']\n",
    "for i in List1:\n",
    "    print(len(i))"
   ]
  },
  {
   "cell_type": "code",
   "execution_count": 41,
   "id": "ed7586bf",
   "metadata": {},
   "outputs": [
    {
     "data": {
      "text/plain": [
       "1"
      ]
     },
     "execution_count": 41,
     "metadata": {},
     "output_type": "execute_result"
    }
   ],
   "source": [
    "List1.index(\"Hello\")"
   ]
  },
  {
   "cell_type": "raw",
   "id": "3292d0b6",
   "metadata": {},
   "source": [
    "8. With the help of conditional statement print all of the negative element that is present\n",
    "in the given List\n",
    "L= [-2, 4, -1, -6, -7]"
   ]
  },
  {
   "cell_type": "code",
   "execution_count": 25,
   "id": "b1997750",
   "metadata": {},
   "outputs": [
    {
     "name": "stdout",
     "output_type": "stream",
     "text": [
      "-2\n",
      "-1\n",
      "-6\n",
      "-7\n"
     ]
    }
   ],
   "source": [
    "L= [-2, 4, -1, -6, -7]\n",
    "for i in L:\n",
    "    if i<0:\n",
    "        print(i)"
   ]
  },
  {
   "cell_type": "raw",
   "id": "66a835d3",
   "metadata": {},
   "source": [
    "9. Create a list of the first 50 natural numbers, and perform the following operations.\n",
    "a. Count the number of elements in the list."
   ]
  },
  {
   "cell_type": "code",
   "execution_count": 26,
   "id": "7b9e6fea",
   "metadata": {},
   "outputs": [
    {
     "name": "stdout",
     "output_type": "stream",
     "text": [
      "[1, 2, 3, 4, 5, 6, 7, 8, 9, 10, 11, 12, 13, 14, 15, 16, 17, 18, 19, 20, 21, 22, 23, 24, 25, 26, 27, 28, 29, 30, 31, 32, 33, 34, 35, 36, 37, 38, 39, 40, 41, 42, 43, 44, 45, 46, 47, 48, 49, 50]\n"
     ]
    }
   ],
   "source": [
    "list1=[]\n",
    "for i in range(1,51):\n",
    "    list1.append(i)\n",
    "print(list1)"
   ]
  },
  {
   "cell_type": "raw",
   "id": "28abdb05",
   "metadata": {},
   "source": [
    "b. Reverse the sequence of the list."
   ]
  },
  {
   "cell_type": "code",
   "execution_count": null,
   "id": "f9529014",
   "metadata": {},
   "outputs": [],
   "source": [
    "sort() is a function that is used to sort a list in ascending order"
   ]
  },
  {
   "cell_type": "code",
   "execution_count": 29,
   "id": "260ea4eb",
   "metadata": {},
   "outputs": [
    {
     "name": "stdout",
     "output_type": "stream",
     "text": [
      "[50, 49, 48, 47, 46, 45, 44, 43, 42, 41, 40, 39, 38, 37, 36, 35, 34, 33, 32, 31, 30, 29, 28, 27, 26, 25, 24, 23, 22, 21, 20, 19, 18, 17, 16, 15, 14, 13, 12, 11, 10, 9, 8, 7, 6, 5, 4, 3, 2, 1]\n"
     ]
    }
   ],
   "source": [
    "list1.sort(reverse=True)\n",
    "print(list1)"
   ]
  },
  {
   "cell_type": "code",
   "execution_count": 31,
   "id": "5cb59427",
   "metadata": {},
   "outputs": [
    {
     "name": "stdout",
     "output_type": "stream",
     "text": [
      "[50, 49, 48, 47, 46, 45, 44, 43, 42, 41, 40, 39, 38, 37, 36, 35, 34, 33, 32, 31, 30, 29, 28, 27, 26, 25, 24, 23, 22, 21, 20, 19, 18, 17, 16, 15, 14, 13, 12, 11, 10, 9, 8, 7, 6, 5, 4, 3, 2, 1]\n"
     ]
    }
   ],
   "source": [
    "List1=[]\n",
    "for i in range(50,0,-1):\n",
    "    List1.append(i)\n",
    "print(List1)\n"
   ]
  },
  {
   "cell_type": "code",
   "execution_count": null,
   "id": "2e7a89f1",
   "metadata": {},
   "outputs": [],
   "source": [
    "diffrence \n",
    "return = it can be only used when we have user define function\n",
    "print() = it is used print to print statement"
   ]
  },
  {
   "cell_type": "code",
   "execution_count": 32,
   "id": "4e3d1f85",
   "metadata": {},
   "outputs": [
    {
     "ename": "SyntaxError",
     "evalue": "'return' outside function (2874715716.py, line 1)",
     "output_type": "error",
     "traceback": [
      "\u001b[1;36m  Cell \u001b[1;32mIn[32], line 1\u001b[1;36m\u001b[0m\n\u001b[1;33m    return 10\u001b[0m\n\u001b[1;37m    ^\u001b[0m\n\u001b[1;31mSyntaxError\u001b[0m\u001b[1;31m:\u001b[0m 'return' outside function\n"
     ]
    }
   ],
   "source": [
    "return 10"
   ]
  },
  {
   "cell_type": "code",
   "execution_count": null,
   "id": "5fb53e8c",
   "metadata": {},
   "outputs": [],
   "source": [
    "d. Get the index value for the element 44, and update the element with the number"
   ]
  },
  {
   "cell_type": "code",
   "execution_count": 33,
   "id": "afa9ccaf",
   "metadata": {},
   "outputs": [
    {
     "name": "stdout",
     "output_type": "stream",
     "text": [
      "[1, 2, 3, 4, 5, 6, 7, 8, 9, 10, 11, 12, 13, 14, 15, 16, 17, 18, 19, 20, 21, 22, 23, 24, 25, 26, 27, 28, 29, 30, 31, 32, 33, 34, 35, 36, 37, 38, 39, 40, 41, 42, 43, 44, 45, 46, 47, 48, 49, 50]\n"
     ]
    }
   ],
   "source": [
    "list1=[]\n",
    "for i in range(1,51):\n",
    "    list1.append(i)\n",
    "print(list1)"
   ]
  },
  {
   "cell_type": "code",
   "execution_count": 37,
   "id": "1862f7a7",
   "metadata": {},
   "outputs": [
    {
     "data": {
      "text/plain": [
       "44"
      ]
     },
     "execution_count": 37,
     "metadata": {},
     "output_type": "execute_result"
    }
   ],
   "source": [
    "list1[43]"
   ]
  },
  {
   "cell_type": "code",
   "execution_count": 38,
   "id": "1ebbd0cd",
   "metadata": {},
   "outputs": [
    {
     "data": {
      "text/plain": [
       "43"
      ]
     },
     "execution_count": 38,
     "metadata": {},
     "output_type": "execute_result"
    }
   ],
   "source": [
    "list1.index(44)"
   ]
  },
  {
   "cell_type": "code",
   "execution_count": null,
   "id": "935d8f63",
   "metadata": {},
   "outputs": [],
   "source": [
    "index()  is used to fetch the index of the particular element inside the list"
   ]
  },
  {
   "cell_type": "code",
   "execution_count": null,
   "id": "eec2b071",
   "metadata": {},
   "outputs": [],
   "source": [
    "10. For the given strings A = “Python Programming Language”, B = “Best in the World” ,\n",
    "perform the following operations.\n",
    "a.Using indexing operations, get the text “gram” from the string A.\n",
    "b. Using indexing operations, get the text “World” from the string B."
   ]
  },
  {
   "cell_type": "code",
   "execution_count": 42,
   "id": "38910ba4",
   "metadata": {},
   "outputs": [
    {
     "data": {
      "text/plain": [
       "'gram'"
      ]
     },
     "execution_count": 42,
     "metadata": {},
     "output_type": "execute_result"
    }
   ],
   "source": [
    "A=\"Python Programming Language\"\n",
    "A[10:14]"
   ]
  },
  {
   "cell_type": "code",
   "execution_count": 43,
   "id": "71f57ee4",
   "metadata": {},
   "outputs": [
    {
     "data": {
      "text/plain": [
       "'P'"
      ]
     },
     "execution_count": 43,
     "metadata": {},
     "output_type": "execute_result"
    }
   ],
   "source": [
    "A[0]"
   ]
  },
  {
   "cell_type": "code",
   "execution_count": 44,
   "id": "7fdf23ab",
   "metadata": {},
   "outputs": [
    {
     "data": {
      "text/plain": [
       "'t'"
      ]
     },
     "execution_count": 44,
     "metadata": {},
     "output_type": "execute_result"
    }
   ],
   "source": [
    "A[2]"
   ]
  },
  {
   "cell_type": "code",
   "execution_count": null,
   "id": "132911ce",
   "metadata": {},
   "outputs": [],
   "source": [
    "A[start:stop]\n"
   ]
  },
  {
   "cell_type": "code",
   "execution_count": 45,
   "id": "1d9ec3ab",
   "metadata": {},
   "outputs": [
    {
     "data": {
      "text/plain": [
       "'Language'"
      ]
     },
     "execution_count": 45,
     "metadata": {},
     "output_type": "execute_result"
    }
   ],
   "source": [
    "A[19:]"
   ]
  },
  {
   "cell_type": "code",
   "execution_count": 47,
   "id": "5ec36810",
   "metadata": {},
   "outputs": [
    {
     "data": {
      "text/plain": [
       "19"
      ]
     },
     "execution_count": 47,
     "metadata": {},
     "output_type": "execute_result"
    }
   ],
   "source": [
    "A.index(\"L\")"
   ]
  },
  {
   "cell_type": "code",
   "execution_count": 48,
   "id": "30edd432",
   "metadata": {},
   "outputs": [
    {
     "data": {
      "text/plain": [
       "26"
      ]
     },
     "execution_count": 48,
     "metadata": {},
     "output_type": "execute_result"
    }
   ],
   "source": [
    "A.index(\"e\")"
   ]
  },
  {
   "cell_type": "code",
   "execution_count": 49,
   "id": "2d6a89ea",
   "metadata": {},
   "outputs": [
    {
     "data": {
      "text/plain": [
       "'Language'"
      ]
     },
     "execution_count": 49,
     "metadata": {},
     "output_type": "execute_result"
    }
   ],
   "source": [
    "A[19:27]"
   ]
  },
  {
   "cell_type": "code",
   "execution_count": 51,
   "id": "703ca136",
   "metadata": {},
   "outputs": [
    {
     "data": {
      "text/plain": [
       "12"
      ]
     },
     "execution_count": 51,
     "metadata": {},
     "output_type": "execute_result"
    }
   ],
   "source": [
    "A.index(\"a\")"
   ]
  },
  {
   "cell_type": "code",
   "execution_count": null,
   "id": "79bd6db6",
   "metadata": {},
   "outputs": [],
   "source": [
    "b. Using indexing operations, get the text “World” from the string B.\n"
   ]
  },
  {
   "cell_type": "code",
   "execution_count": 52,
   "id": "2ebbdf9f",
   "metadata": {},
   "outputs": [
    {
     "data": {
      "text/plain": [
       "'World'"
      ]
     },
     "execution_count": 52,
     "metadata": {},
     "output_type": "execute_result"
    }
   ],
   "source": [
    "B=\"Best in the World\"\n",
    "B[12:]"
   ]
  },
  {
   "cell_type": "code",
   "execution_count": null,
   "id": "f3b11b41",
   "metadata": {},
   "outputs": [],
   "source": [
    "c. Change the letters in both strings to Uppercase letters.\n",
    "upper() = it is used to convert everthing in uppercase"
   ]
  },
  {
   "cell_type": "code",
   "execution_count": 53,
   "id": "260a1855",
   "metadata": {},
   "outputs": [
    {
     "data": {
      "text/plain": [
       "'PYTHON PROGRAMMING LANGUAGE'"
      ]
     },
     "execution_count": 53,
     "metadata": {},
     "output_type": "execute_result"
    }
   ],
   "source": [
    "A.upper()"
   ]
  },
  {
   "cell_type": "code",
   "execution_count": 54,
   "id": "3d4fa47b",
   "metadata": {},
   "outputs": [
    {
     "data": {
      "text/plain": [
       "'BEST IN THE WORLD'"
      ]
     },
     "execution_count": 54,
     "metadata": {},
     "output_type": "execute_result"
    }
   ],
   "source": [
    "B.upper()"
   ]
  },
  {
   "cell_type": "code",
   "execution_count": 55,
   "id": "296b8340",
   "metadata": {},
   "outputs": [
    {
     "data": {
      "text/plain": [
       "'best in the world'"
      ]
     },
     "execution_count": 55,
     "metadata": {},
     "output_type": "execute_result"
    }
   ],
   "source": [
    "B.lower()"
   ]
  },
  {
   "cell_type": "code",
   "execution_count": null,
   "id": "7e5801c7",
   "metadata": {},
   "outputs": [],
   "source": [
    "d. Concatenate the two strings.\n"
   ]
  },
  {
   "cell_type": "code",
   "execution_count": 57,
   "id": "bdd555a7",
   "metadata": {},
   "outputs": [
    {
     "data": {
      "text/plain": [
       "'Python Programming Language Best in the World'"
      ]
     },
     "execution_count": 57,
     "metadata": {},
     "output_type": "execute_result"
    }
   ],
   "source": [
    "A+\" \"+B"
   ]
  },
  {
   "cell_type": "code",
   "execution_count": null,
   "id": "09eb419b",
   "metadata": {},
   "outputs": [],
   "source": [
    "11. Create a list with n numbers, and using negative indexing return the list starting from\n",
    "the 5th index to the n-2th index.\n",
    "starts -1 \n",
    "end \n",
    "\n",
    "1,11\n",
    "[1,2,3,4,5,6,7,8,9,10]\n",
    "support@intellipaat.com"
   ]
  }
 ],
 "metadata": {
  "kernelspec": {
   "display_name": "Python 3 (ipykernel)",
   "language": "python",
   "name": "python3"
  },
  "language_info": {
   "codemirror_mode": {
    "name": "ipython",
    "version": 3
   },
   "file_extension": ".py",
   "mimetype": "text/x-python",
   "name": "python",
   "nbconvert_exporter": "python",
   "pygments_lexer": "ipython3",
   "version": "3.10.9"
  }
 },
 "nbformat": 4,
 "nbformat_minor": 5
}
