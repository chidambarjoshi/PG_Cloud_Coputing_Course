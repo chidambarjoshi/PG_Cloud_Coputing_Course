{
 "cells": [
  {
   "cell_type": "markdown",
   "metadata": {},
   "source": [
    "1. Create a python file named Module.\n",
    "a. Inside the file, define 4 methods named – addition, subtraction, multiplication,\n",
    "and division.\n",
    "b. Each method should only accept 2 arguments and should return the result of the\n",
    "operation performed in each method. For e.g., addition() should return the sum of\n",
    "two arguments.\n",
    "c. Save the Module file in .py format"
   ]
  },
  {
   "cell_type": "code",
   "execution_count": 1,
   "metadata": {},
   "outputs": [],
   "source": [
    "def addition (a,b):\n",
    "    return a+b\n",
    "    \n",
    "def substraction(a,b):\n",
    "    return a-b\n",
    "    \n",
    "def multiplication(a,b):\n",
    "    return a*b\n",
    "\n",
    "def division(a,b):\n",
    "    return a/b"
   ]
  },
  {
   "cell_type": "markdown",
   "metadata": {},
   "source": [
    "Open a new python file and import the Module.py file.\n",
    "a. Now call the 4 methods from the Module.py file, i.e., addition(), subtraction(),\n",
    "multiplication(), and division().\n"
   ]
  },
  {
   "cell_type": "code",
   "execution_count": 3,
   "metadata": {},
   "outputs": [
    {
     "name": "stdout",
     "output_type": "stream",
     "text": [
      "4\n",
      "-2\n",
      "3\n",
      "2.0\n"
     ]
    }
   ],
   "source": []
  },
  {
   "cell_type": "code",
   "execution_count": null,
   "metadata": {},
   "outputs": [],
   "source": []
  }
 ],
 "metadata": {
  "kernelspec": {
   "display_name": "Python 3.11.3 ('base')",
   "language": "python",
   "name": "python3"
  },
  "language_info": {
   "codemirror_mode": {
    "name": "ipython",
    "version": 3
   },
   "file_extension": ".py",
   "mimetype": "text/x-python",
   "name": "python",
   "nbconvert_exporter": "python",
   "pygments_lexer": "ipython3",
   "version": "3.11.4"
  },
  "orig_nbformat": 4,
  "vscode": {
   "interpreter": {
    "hash": "0f429c9bf9c30fa5294881837286bd83641c1730f8935b8c4bd9ea85c1546477"
   }
  }
 },
 "nbformat": 4,
 "nbformat_minor": 2
}
