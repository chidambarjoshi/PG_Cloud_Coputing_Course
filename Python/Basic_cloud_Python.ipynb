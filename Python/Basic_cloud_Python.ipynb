{
 "cells": [
  {
   "cell_type": "markdown",
   "id": "633616ce",
   "metadata": {},
   "source": [
    "Python = python is programming language\n",
    "Program= set of instruction to pass or to complete a task over machine"
   ]
  },
  {
   "cell_type": "markdown",
   "id": "6a06eb4b",
   "metadata": {},
   "source": [
    "Python is a high level programming language."
   ]
  },
  {
   "cell_type": "markdown",
   "id": "ae106756",
   "metadata": {},
   "source": [
    "high level = the code are easily understanble by human / human readable "
   ]
  },
  {
   "cell_type": "markdown",
   "id": "d2e00b91",
   "metadata": {},
   "source": [
    "print() = used to give the display the output"
   ]
  },
  {
   "cell_type": "code",
   "execution_count": 1,
   "id": "c009f66d",
   "metadata": {},
   "outputs": [
    {
     "name": "stdout",
     "output_type": "stream",
     "text": [
      "hello world\n"
     ]
    }
   ],
   "source": [
    "print(\"hello world\")"
   ]
  },
  {
   "cell_type": "markdown",
   "id": "65932738",
   "metadata": {},
   "source": [
    "Feature of Python\n",
    "1. High level = human readble\n",
    "2. Case sensitive\n",
    "3. Rich in libraries\n",
    "4.Interpreter"
   ]
  },
  {
   "cell_type": "markdown",
   "id": "e756bb0d",
   "metadata": {},
   "source": [
    "Rich in libraries -\n",
    "library is a pakage where we can have different type of built in function\n",
    "example \n",
    "numpy = to deal with array\n",
    "pandas = data manipulation\n",
    "statatics=  mathematical task over the data"
   ]
  },
  {
   "cell_type": "markdown",
   "id": "77b69c69",
   "metadata": {},
   "source": [
    "2. Case sensitive = lower case and upper case character(even if they are same ) are different "
   ]
  },
  {
   "cell_type": "markdown",
   "id": "80328f71",
   "metadata": {},
   "source": [
    "A =10  # upper case\n",
    "a=10 #lower \n",
    "bat\n",
    "bAt"
   ]
  },
  {
   "cell_type": "code",
   "execution_count": 14,
   "id": "08eda221",
   "metadata": {},
   "outputs": [],
   "source": [
    "hello = 10\n",
    "Hello = 40"
   ]
  },
  {
   "cell_type": "code",
   "execution_count": 15,
   "id": "9556cc7e",
   "metadata": {},
   "outputs": [
    {
     "data": {
      "text/plain": [
       "10"
      ]
     },
     "execution_count": 15,
     "metadata": {},
     "output_type": "execute_result"
    }
   ],
   "source": [
    "hello"
   ]
  },
  {
   "cell_type": "markdown",
   "id": "b2e590e3",
   "metadata": {},
   "source": [
    "print# right\n",
    "Print #wrong \n",
    "return \n",
    "True  # true"
   ]
  },
  {
   "cell_type": "markdown",
   "id": "40c8acf0",
   "metadata": {},
   "source": [
    "executaion = running a code by providing the command"
   ]
  },
  {
   "cell_type": "code",
   "execution_count": null,
   "id": "0b6f921f",
   "metadata": {},
   "outputs": [],
   "source": [
    "1.Compiler = all of the code would get compiled using top to bottom approach in a single block\n",
    "2. Interpreter= in python our code executes line by line using the top to bottom approach "
   ]
  },
  {
   "cell_type": "code",
   "execution_count": 2,
   "id": "2706b696",
   "metadata": {},
   "outputs": [
    {
     "name": "stdout",
     "output_type": "stream",
     "text": [
      "cherry\n"
     ]
    }
   ],
   "source": [
    "print(\"cherry\")"
   ]
  },
  {
   "cell_type": "code",
   "execution_count": 3,
   "id": "16bb15f8",
   "metadata": {},
   "outputs": [],
   "source": [
    "a= 10"
   ]
  },
  {
   "cell_type": "code",
   "execution_count": 4,
   "id": "901725c9",
   "metadata": {},
   "outputs": [
    {
     "data": {
      "text/plain": [
       "10"
      ]
     },
     "execution_count": 4,
     "metadata": {},
     "output_type": "execute_result"
    }
   ],
   "source": [
    "a"
   ]
  },
  {
   "cell_type": "markdown",
   "id": "d12e193d",
   "metadata": {},
   "source": [
    "varaible are used to store a data\n",
    "varaible are the name that represents the data\n",
    "varaible  points towards the data"
   ]
  },
  {
   "cell_type": "markdown",
   "id": "cb8ac71c",
   "metadata": {},
   "source": [
    "rules for variable\n",
    "1. a avarible can not start number\n",
    "2. we cannaot use any of special character inside the variable( @ ! # $ %) expection  _\n",
    "3. one varaible will only store one data \n",
    "4. a keyword cannot be used a variable                                                               \n",
    "                                                               "
   ]
  },
  {
   "cell_type": "code",
   "execution_count": null,
   "id": "a6efc347",
   "metadata": {},
   "outputs": [],
   "source": [
    "#1. a variable can not start number\n",
    "x=50"
   ]
  },
  {
   "cell_type": "code",
   "execution_count": 5,
   "id": "7e9e4280",
   "metadata": {},
   "outputs": [
    {
     "ename": "SyntaxError",
     "evalue": "invalid decimal literal (1663881409.py, line 2)",
     "output_type": "error",
     "traceback": [
      "\u001b[1;36m  Cell \u001b[1;32mIn[5], line 2\u001b[1;36m\u001b[0m\n\u001b[1;33m    1a=30\u001b[0m\n\u001b[1;37m    ^\u001b[0m\n\u001b[1;31mSyntaxError\u001b[0m\u001b[1;31m:\u001b[0m invalid decimal literal\n"
     ]
    }
   ],
   "source": [
    "#1. a variable can not start number\n",
    "1a=30"
   ]
  },
  {
   "cell_type": "code",
   "execution_count": 6,
   "id": "975cfc92",
   "metadata": {},
   "outputs": [
    {
     "ename": "SyntaxError",
     "evalue": "invalid syntax. Maybe you meant '==' or ':=' instead of '='? (3686609202.py, line 2)",
     "output_type": "error",
     "traceback": [
      "\u001b[1;36m  Cell \u001b[1;32mIn[6], line 2\u001b[1;36m\u001b[0m\n\u001b[1;33m    @f= 23\u001b[0m\n\u001b[1;37m     ^\u001b[0m\n\u001b[1;31mSyntaxError\u001b[0m\u001b[1;31m:\u001b[0m invalid syntax. Maybe you meant '==' or ':=' instead of '='?\n"
     ]
    }
   ],
   "source": [
    "#2. we cannaot use any of special character inside the variable( @ ! # $ %)\n",
    "@f= 23"
   ]
  },
  {
   "cell_type": "code",
   "execution_count": 13,
   "id": "9c0ea3e3",
   "metadata": {},
   "outputs": [
    {
     "ename": "SyntaxError",
     "evalue": "cannot assign to expression here. Maybe you meant '==' instead of '='? (489201651.py, line 1)",
     "output_type": "error",
     "traceback": [
      "\u001b[1;36m  Cell \u001b[1;32mIn[13], line 1\u001b[1;36m\u001b[0m\n\u001b[1;33m    vo@y= 35\u001b[0m\n\u001b[1;37m    ^\u001b[0m\n\u001b[1;31mSyntaxError\u001b[0m\u001b[1;31m:\u001b[0m cannot assign to expression here. Maybe you meant '==' instead of '='?\n"
     ]
    }
   ],
   "source": [
    "vo@y= 35"
   ]
  },
  {
   "cell_type": "code",
   "execution_count": 8,
   "id": "26972067",
   "metadata": {},
   "outputs": [
    {
     "name": "stdout",
     "output_type": "stream",
     "text": [
      "10\n"
     ]
    }
   ],
   "source": [
    "# exception  _ underscore\n",
    "_r = 10 \n",
    "print(_r)"
   ]
  },
  {
   "cell_type": "code",
   "execution_count": 9,
   "id": "d98d8080",
   "metadata": {},
   "outputs": [
    {
     "ename": "SyntaxError",
     "evalue": "invalid syntax (3400344079.py, line 2)",
     "output_type": "error",
     "traceback": [
      "\u001b[1;36m  Cell \u001b[1;32mIn[9], line 2\u001b[1;36m\u001b[0m\n\u001b[1;33m    v= 10 30\u001b[0m\n\u001b[1;37m          ^\u001b[0m\n\u001b[1;31mSyntaxError\u001b[0m\u001b[1;31m:\u001b[0m invalid syntax\n"
     ]
    }
   ],
   "source": [
    "#3. one varaible will only store one data\n",
    "v= 10 30"
   ]
  },
  {
   "cell_type": "markdown",
   "id": "009809ef",
   "metadata": {},
   "source": [
    "varaible \n",
    "1. we can use alphabets \n",
    "2. we can use words\n",
    "3. in between the alaphabets we can number as well or either end of the words"
   ]
  },
  {
   "cell_type": "code",
   "execution_count": 10,
   "id": "8ffbe183",
   "metadata": {},
   "outputs": [
    {
     "data": {
      "text/plain": [
       "40"
      ]
     },
     "execution_count": 10,
     "metadata": {},
     "output_type": "execute_result"
    }
   ],
   "source": [
    "#1. we can use alphabets \n",
    "f= 40\n",
    "f"
   ]
  },
  {
   "cell_type": "code",
   "execution_count": null,
   "id": "d4c10c41",
   "metadata": {},
   "outputs": [],
   "source": [
    "#2. we can use words\n",
    "hello = 10\n",
    "apple = 20\n",
    "age = 45"
   ]
  },
  {
   "cell_type": "code",
   "execution_count": 11,
   "id": "1f9ee5fc",
   "metadata": {},
   "outputs": [
    {
     "data": {
      "text/plain": [
       "7"
      ]
     },
     "execution_count": 11,
     "metadata": {},
     "output_type": "execute_result"
    }
   ],
   "source": [
    "#3. in between the alaphabets we can number as well or either end of the words\n",
    "xyz1 =7\n",
    "xyz1"
   ]
  },
  {
   "cell_type": "raw",
   "id": "0f25d4b7",
   "metadata": {},
   "source": [
    "keywords= keywords are the reserved words that has specific task to do or that some meaning towrads the code .\n",
    "note: trick to find the keywords = it will appear in green"
   ]
  },
  {
   "cell_type": "code",
   "execution_count": null,
   "id": "a6963712",
   "metadata": {},
   "outputs": [],
   "source": [
    "#example for keywords\n",
    "print, return , or , and , not , in "
   ]
  },
  {
   "cell_type": "code",
   "execution_count": 16,
   "id": "ec05bb65",
   "metadata": {},
   "outputs": [
    {
     "name": "stdout",
     "output_type": "stream",
     "text": [
      "35\n"
     ]
    }
   ],
   "source": [
    "#\n",
    "x=5\n",
    "y=30\n",
    "print(x+y)"
   ]
  },
  {
   "cell_type": "code",
   "execution_count": 17,
   "id": "9369ec4d",
   "metadata": {},
   "outputs": [],
   "source": [
    "#interpreter\n",
    "c=5"
   ]
  },
  {
   "cell_type": "code",
   "execution_count": 18,
   "id": "69ce9776",
   "metadata": {},
   "outputs": [],
   "source": [
    "d=3"
   ]
  },
  {
   "cell_type": "code",
   "execution_count": 19,
   "id": "4ff50fe1",
   "metadata": {},
   "outputs": [
    {
     "data": {
      "text/plain": [
       "8"
      ]
     },
     "execution_count": 19,
     "metadata": {},
     "output_type": "execute_result"
    }
   ],
   "source": [
    "c+d"
   ]
  },
  {
   "cell_type": "code",
   "execution_count": null,
   "id": "b20e90bd",
   "metadata": {},
   "outputs": [],
   "source": [
    "memory allocation  = to store a code memory  "
   ]
  },
  {
   "cell_type": "code",
   "execution_count": 20,
   "id": "03e46c28",
   "metadata": {},
   "outputs": [],
   "source": [
    "e= 105"
   ]
  },
  {
   "cell_type": "code",
   "execution_count": 21,
   "id": "74f358e8",
   "metadata": {},
   "outputs": [],
   "source": [
    "f= 100"
   ]
  },
  {
   "cell_type": "code",
   "execution_count": 22,
   "id": "afadd27a",
   "metadata": {},
   "outputs": [
    {
     "data": {
      "text/plain": [
       "105"
      ]
     },
     "execution_count": 22,
     "metadata": {},
     "output_type": "execute_result"
    }
   ],
   "source": [
    "e"
   ]
  },
  {
   "cell_type": "code",
   "execution_count": 24,
   "id": "0ac1f5c7",
   "metadata": {},
   "outputs": [
    {
     "name": "stdout",
     "output_type": "stream",
     "text": [
      "19\n"
     ]
    },
    {
     "data": {
      "text/plain": [
       "20"
      ]
     },
     "execution_count": 24,
     "metadata": {},
     "output_type": "execute_result"
    }
   ],
   "source": [
    "hello=19\n",
    "Hello=20\n",
    "print(hello)\n",
    "Hello"
   ]
  },
  {
   "cell_type": "code",
   "execution_count": 27,
   "id": "5a91a93b",
   "metadata": {},
   "outputs": [
    {
     "name": "stdout",
     "output_type": "stream",
     "text": [
      "56\n",
      "34\n"
     ]
    }
   ],
   "source": [
    "age=  56\n",
    "name = 34\n",
    "print(age)\n",
    "print(name)"
   ]
  },
  {
   "cell_type": "code",
   "execution_count": 29,
   "id": "49d07c1b",
   "metadata": {},
   "outputs": [
    {
     "name": "stdout",
     "output_type": "stream",
     "text": [
      "30 20 10\n"
     ]
    }
   ],
   "source": [
    "v=10\n",
    "y=20\n",
    "z=30\n",
    "print(z, y ,v)"
   ]
  },
  {
   "cell_type": "code",
   "execution_count": null,
   "id": "46c72a07",
   "metadata": {},
   "outputs": [],
   "source": [
    "xyz   20  5.7"
   ]
  },
  {
   "cell_type": "code",
   "execution_count": null,
   "id": "5bfdf009",
   "metadata": {},
   "outputs": [],
   "source": [
    "type() =used to show the datatype of the varible"
   ]
  },
  {
   "cell_type": "code",
   "execution_count": null,
   "id": "efda4b23",
   "metadata": {},
   "outputs": [],
   "source": [
    "Datatype = the category or the classification of a data(what type of data we are taking)\n",
    "type of datatype\n",
    "1. Built in \n",
    "2. User define"
   ]
  },
  {
   "cell_type": "code",
   "execution_count": null,
   "id": "dcc5b8ac",
   "metadata": {},
   "outputs": [],
   "source": [
    "Built in datatype = the datatype that is pre define for each and every lanaguge\n",
    "1. Integer = int\n",
    "2. Float\n",
    "3. String\n",
    "4. Boolean"
   ]
  },
  {
   "cell_type": "raw",
   "id": "c758a989",
   "metadata": {},
   "source": [
    "1. Integer(int) = all of the numeric values including the negative value are the integer type data\n",
    "ex\n",
    "var =10\n",
    "a= -40"
   ]
  },
  {
   "cell_type": "code",
   "execution_count": 30,
   "id": "628a8cf3",
   "metadata": {},
   "outputs": [
    {
     "data": {
      "text/plain": [
       "int"
      ]
     },
     "execution_count": 30,
     "metadata": {},
     "output_type": "execute_result"
    }
   ],
   "source": [
    "xxx= 379\n",
    "type(xxx)"
   ]
  },
  {
   "cell_type": "code",
   "execution_count": 33,
   "id": "bb8a6df7",
   "metadata": {},
   "outputs": [
    {
     "name": "stdout",
     "output_type": "stream",
     "text": [
      "<class 'int'>\n",
      "-456\n"
     ]
    }
   ],
   "source": [
    "var= -456\n",
    "print(type(var))\n",
    "print(var)"
   ]
  },
  {
   "cell_type": "code",
   "execution_count": null,
   "id": "093fbc37",
   "metadata": {},
   "outputs": [],
   "source": [
    "Float = all of the numbers that has decimal value  including the negaive deciaml number as well \n",
    "float"
   ]
  },
  {
   "cell_type": "code",
   "execution_count": 34,
   "id": "35b1200e",
   "metadata": {},
   "outputs": [
    {
     "data": {
      "text/plain": [
       "float"
      ]
     },
     "execution_count": 34,
     "metadata": {},
     "output_type": "execute_result"
    }
   ],
   "source": [
    "var1 = 56.7\n",
    "type(var1)"
   ]
  },
  {
   "cell_type": "code",
   "execution_count": 36,
   "id": "940ff3c6",
   "metadata": {},
   "outputs": [
    {
     "data": {
      "text/plain": [
       "float"
      ]
     },
     "execution_count": 36,
     "metadata": {},
     "output_type": "execute_result"
    }
   ],
   "source": [
    "var2= -3.4\n",
    "type(var2)"
   ]
  },
  {
   "cell_type": "markdown",
   "id": "a7e3e952",
   "metadata": {},
   "source": [
    " "
   ]
  },
  {
   "cell_type": "code",
   "execution_count": null,
   "id": "cd919c26",
   "metadata": {},
   "outputs": [],
   "source": [
    "string=anything that has sequence or either a invidual character(a,z)\n",
    "rule = anything that is inside the \"\", ''\n",
    "\n",
    "str"
   ]
  },
  {
   "cell_type": "code",
   "execution_count": null,
   "id": "e5d2ae51",
   "metadata": {},
   "outputs": [],
   "source": [
    "st = \"hello\"\n",
    "st1= 'a'\n",
    "st2= \"1234\"\n",
    "st3= \"3.5\""
   ]
  },
  {
   "cell_type": "code",
   "execution_count": 1,
   "id": "185b0488",
   "metadata": {},
   "outputs": [
    {
     "data": {
      "text/plain": [
       "str"
      ]
     },
     "execution_count": 1,
     "metadata": {},
     "output_type": "execute_result"
    }
   ],
   "source": [
    "string = \"4.7\"\n",
    "type(string)"
   ]
  },
  {
   "cell_type": "code",
   "execution_count": 2,
   "id": "ef70915e",
   "metadata": {},
   "outputs": [
    {
     "data": {
      "text/plain": [
       "'hello i am python'"
      ]
     },
     "execution_count": 2,
     "metadata": {},
     "output_type": "execute_result"
    }
   ],
   "source": [
    "str2= \"hello i am python\"\n",
    "str2"
   ]
  },
  {
   "cell_type": "code",
   "execution_count": 3,
   "id": "2cbeecae",
   "metadata": {},
   "outputs": [
    {
     "data": {
      "text/plain": [
       "str"
      ]
     },
     "execution_count": 3,
     "metadata": {},
     "output_type": "execute_result"
    }
   ],
   "source": [
    "type(str2)"
   ]
  },
  {
   "cell_type": "code",
   "execution_count": null,
   "id": "3ffbc56b",
   "metadata": {},
   "outputs": [],
   "source": [
    "Boolean = a data that has value as in True and false that is called boolean\n",
    "bool\n",
    "feature = we usze it in if else condition"
   ]
  },
  {
   "cell_type": "code",
   "execution_count": 4,
   "id": "39c5de86",
   "metadata": {},
   "outputs": [
    {
     "data": {
      "text/plain": [
       "bool"
      ]
     },
     "execution_count": 4,
     "metadata": {},
     "output_type": "execute_result"
    }
   ],
   "source": [
    "a= True\n",
    "b=False\n",
    "type(b)"
   ]
  },
  {
   "cell_type": "code",
   "execution_count": null,
   "id": "048c4fce",
   "metadata": {},
   "outputs": [],
   "source": [
    "user define datatype = a user can customize the class of the data using the user define datatype\n",
    "types of user define datatype \n",
    "1.Tuple\n",
    "2.List\n",
    "3.Set\n",
    "4.Dictionary\n"
   ]
  },
  {
   "cell_type": "raw",
   "id": "0a4916ad",
   "metadata": {},
   "source": [
    "1. Tuple = a tuple is sequence of ordered data\n",
    "feature = in a single variable using the comma we can take multiple of data as well as we can take multiple type datatype\n",
    "keyword =tuple\n",
    "rule = () small brackets"
   ]
  },
  {
   "cell_type": "code",
   "execution_count": 5,
   "id": "25244a0d",
   "metadata": {},
   "outputs": [
    {
     "data": {
      "text/plain": [
       "(1, 2, 3, 4, 5)"
      ]
     },
     "execution_count": 5,
     "metadata": {},
     "output_type": "execute_result"
    }
   ],
   "source": [
    "tup=(1,2,3,4,5)\n",
    "tup"
   ]
  },
  {
   "cell_type": "code",
   "execution_count": 7,
   "id": "6d66f204",
   "metadata": {},
   "outputs": [
    {
     "data": {
      "text/plain": [
       "5"
      ]
     },
     "execution_count": 7,
     "metadata": {},
     "output_type": "execute_result"
    }
   ],
   "source": [
    "len(tup)"
   ]
  },
  {
   "cell_type": "code",
   "execution_count": 6,
   "id": "42a9a522",
   "metadata": {},
   "outputs": [
    {
     "data": {
      "text/plain": [
       "tuple"
      ]
     },
     "execution_count": 6,
     "metadata": {},
     "output_type": "execute_result"
    }
   ],
   "source": [
    "tup1= (1,\"hello\",3.5, True)\n",
    "type(tup1)\n"
   ]
  },
  {
   "cell_type": "code",
   "execution_count": 8,
   "id": "b233d54b",
   "metadata": {},
   "outputs": [
    {
     "data": {
      "text/plain": [
       "4"
      ]
     },
     "execution_count": 8,
     "metadata": {},
     "output_type": "execute_result"
    }
   ],
   "source": [
    "len(tup1)"
   ]
  },
  {
   "cell_type": "code",
   "execution_count": null,
   "id": "47359961",
   "metadata": {},
   "outputs": [],
   "source": [
    "len() = used to have the count of the the elements inside the sequence datatype"
   ]
  },
  {
   "cell_type": "code",
   "execution_count": null,
   "id": "32170539",
   "metadata": {},
   "outputs": [],
   "source": [
    "index = the position of the element inside the memory is called index\n",
    "starts  = 0 \n",
    "ends at lenght -1\n",
    "reverse index\n",
    "starts = -1\n",
    "lenght = -length"
   ]
  },
  {
   "cell_type": "code",
   "execution_count": 9,
   "id": "ced7f77c",
   "metadata": {},
   "outputs": [
    {
     "data": {
      "text/plain": [
       "6"
      ]
     },
     "execution_count": 9,
     "metadata": {},
     "output_type": "execute_result"
    }
   ],
   "source": [
    "tup3= (\"hi\", \"cherry\", 3.4, 2,True,1)\n",
    "len(tup3)"
   ]
  },
  {
   "cell_type": "code",
   "execution_count": 10,
   "id": "c5f41dfe",
   "metadata": {},
   "outputs": [
    {
     "data": {
      "text/plain": [
       "'hi'"
      ]
     },
     "execution_count": 10,
     "metadata": {},
     "output_type": "execute_result"
    }
   ],
   "source": [
    "tup3[0]  # variable[indexnumber]  output = element of that index"
   ]
  },
  {
   "cell_type": "code",
   "execution_count": null,
   "id": "ea67e75d",
   "metadata": {},
   "outputs": [],
   "source": [
    "List = A list is sequence of ordered data \n",
    "feature = it can have multile data (multiple datatype)\n",
    "index\n",
    "rule =[]\n",
    "keyword = list"
   ]
  },
  {
   "cell_type": "code",
   "execution_count": 11,
   "id": "d18735bf",
   "metadata": {},
   "outputs": [
    {
     "data": {
      "text/plain": [
       "6"
      ]
     },
     "execution_count": 11,
     "metadata": {},
     "output_type": "execute_result"
    }
   ],
   "source": [
    "List= [1,2,3,7,8,9]\n",
    "len(List)"
   ]
  },
  {
   "cell_type": "code",
   "execution_count": 12,
   "id": "71f68f66",
   "metadata": {},
   "outputs": [
    {
     "data": {
      "text/plain": [
       "4"
      ]
     },
     "execution_count": 12,
     "metadata": {},
     "output_type": "execute_result"
    }
   ],
   "source": [
    "List1= [\"a\", 15.2,\"yes\",False]\n",
    "len(List1)"
   ]
  },
  {
   "cell_type": "code",
   "execution_count": 14,
   "id": "dfea4925",
   "metadata": {},
   "outputs": [
    {
     "data": {
      "text/plain": [
       "False"
      ]
     },
     "execution_count": 14,
     "metadata": {},
     "output_type": "execute_result"
    }
   ],
   "source": [
    "List1[-1]"
   ]
  },
  {
   "cell_type": "code",
   "execution_count": 15,
   "id": "11213d72",
   "metadata": {},
   "outputs": [
    {
     "data": {
      "text/plain": [
       "15.2"
      ]
     },
     "execution_count": 15,
     "metadata": {},
     "output_type": "execute_result"
    }
   ],
   "source": [
    "List1[-3]"
   ]
  },
  {
   "cell_type": "code",
   "execution_count": null,
   "id": "1a5fea86",
   "metadata": {},
   "outputs": [],
   "source": [
    "diffrence = \n",
    "tuple =() , immutable (cannot change)\n",
    "list = [] , mutable (can change)\n"
   ]
  },
  {
   "cell_type": "code",
   "execution_count": 16,
   "id": "262b5364",
   "metadata": {},
   "outputs": [],
   "source": [
    "Tuple_1 =(1,2,3,4,5)\n",
    "List_1= [1,2,3,4,5]"
   ]
  },
  {
   "cell_type": "code",
   "execution_count": null,
   "id": "096c4f94",
   "metadata": {},
   "outputs": [],
   "source": [
    "append() = used to take a data at the end of the list "
   ]
  },
  {
   "cell_type": "code",
   "execution_count": 17,
   "id": "79144ee7",
   "metadata": {},
   "outputs": [
    {
     "ename": "AttributeError",
     "evalue": "'tuple' object has no attribute 'append'",
     "output_type": "error",
     "traceback": [
      "\u001b[1;31m---------------------------------------------------------------------------\u001b[0m",
      "\u001b[1;31mAttributeError\u001b[0m                            Traceback (most recent call last)",
      "Cell \u001b[1;32mIn[17], line 2\u001b[0m\n\u001b[0;32m      1\u001b[0m \u001b[38;5;66;03m#Tuple_1\u001b[39;00m\n\u001b[1;32m----> 2\u001b[0m \u001b[43mTuple_1\u001b[49m\u001b[38;5;241;43m.\u001b[39;49m\u001b[43mappend\u001b[49m(\u001b[38;5;241m6\u001b[39m)\n",
      "\u001b[1;31mAttributeError\u001b[0m: 'tuple' object has no attribute 'append'"
     ]
    }
   ],
   "source": [
    "#Tuple_1\n",
    "Tuple_1.append(6)"
   ]
  },
  {
   "cell_type": "code",
   "execution_count": 18,
   "id": "e60f7f3f",
   "metadata": {},
   "outputs": [],
   "source": [
    "#List\n",
    "List_1.append(6)"
   ]
  },
  {
   "cell_type": "code",
   "execution_count": 19,
   "id": "8dd636c0",
   "metadata": {},
   "outputs": [
    {
     "data": {
      "text/plain": [
       "[1, 2, 3, 4, 5, 6]"
      ]
     },
     "execution_count": 19,
     "metadata": {},
     "output_type": "execute_result"
    }
   ],
   "source": [
    "List_1"
   ]
  },
  {
   "cell_type": "code",
   "execution_count": null,
   "id": "b00d6243",
   "metadata": {},
   "outputs": [],
   "source": [
    "#insert \n",
    "syntax\n",
    "variablename.insert(position,value)\n"
   ]
  },
  {
   "cell_type": "code",
   "execution_count": 21,
   "id": "dde04dbf",
   "metadata": {},
   "outputs": [
    {
     "data": {
      "text/plain": [
       "[1, 2, 7, 7, 3, 4, 5, 6]"
      ]
     },
     "execution_count": 21,
     "metadata": {},
     "output_type": "execute_result"
    }
   ],
   "source": [
    "List_1.insert(2,7)\n",
    "List_1"
   ]
  },
  {
   "cell_type": "code",
   "execution_count": 22,
   "id": "528af5ad",
   "metadata": {},
   "outputs": [
    {
     "data": {
      "text/plain": [
       "[1, 2, 4, 3, 5]"
      ]
     },
     "execution_count": 22,
     "metadata": {},
     "output_type": "execute_result"
    }
   ],
   "source": [
    "List_2 =[1,2,3,5]\n",
    "List_2.insert(2,4)\n",
    "List_2"
   ]
  },
  {
   "cell_type": "code",
   "execution_count": 23,
   "id": "98dc65e8",
   "metadata": {},
   "outputs": [
    {
     "ename": "AttributeError",
     "evalue": "'tuple' object has no attribute 'insert'",
     "output_type": "error",
     "traceback": [
      "\u001b[1;31m---------------------------------------------------------------------------\u001b[0m",
      "\u001b[1;31mAttributeError\u001b[0m                            Traceback (most recent call last)",
      "Cell \u001b[1;32mIn[23], line 2\u001b[0m\n\u001b[0;32m      1\u001b[0m tu1\u001b[38;5;241m=\u001b[39m (\u001b[38;5;241m1\u001b[39m,\u001b[38;5;241m2\u001b[39m,\u001b[38;5;241m3\u001b[39m,\u001b[38;5;241m4\u001b[39m)\n\u001b[1;32m----> 2\u001b[0m \u001b[43mtu1\u001b[49m\u001b[38;5;241;43m.\u001b[39;49m\u001b[43minsert\u001b[49m(\u001b[38;5;241m2\u001b[39m,\u001b[38;5;241m5\u001b[39m)\n\u001b[0;32m      3\u001b[0m tu1\n",
      "\u001b[1;31mAttributeError\u001b[0m: 'tuple' object has no attribute 'insert'"
     ]
    }
   ],
   "source": [
    "tu1= (1,2,3,4)\n",
    "tu1.insert(2,5)\n",
    "tu1"
   ]
  },
  {
   "cell_type": "code",
   "execution_count": null,
   "id": "17f0b6bc",
   "metadata": {},
   "outputs": [],
   "source": [
    "Set = Set is sequence of unordered data\n",
    "feature = set does not take duplicate values/data\n",
    "it does not support index\n",
    "in the set we can have muliple datatype\n",
    "rule ={}\n",
    "keyword = set"
   ]
  },
  {
   "cell_type": "code",
   "execution_count": 24,
   "id": "9bbf75f5",
   "metadata": {},
   "outputs": [
    {
     "data": {
      "text/plain": [
       "set"
      ]
     },
     "execution_count": 24,
     "metadata": {},
     "output_type": "execute_result"
    }
   ],
   "source": [
    "Set= {1,2,3,4,5}\n",
    "type(Set)"
   ]
  },
  {
   "cell_type": "code",
   "execution_count": 25,
   "id": "57a4dc21",
   "metadata": {},
   "outputs": [
    {
     "data": {
      "text/plain": [
       "5"
      ]
     },
     "execution_count": 25,
     "metadata": {},
     "output_type": "execute_result"
    }
   ],
   "source": [
    "len(Set)"
   ]
  },
  {
   "cell_type": "code",
   "execution_count": 26,
   "id": "d9eecf41",
   "metadata": {},
   "outputs": [
    {
     "ename": "TypeError",
     "evalue": "'set' object is not subscriptable",
     "output_type": "error",
     "traceback": [
      "\u001b[1;31m---------------------------------------------------------------------------\u001b[0m",
      "\u001b[1;31mTypeError\u001b[0m                                 Traceback (most recent call last)",
      "Cell \u001b[1;32mIn[26], line 1\u001b[0m\n\u001b[1;32m----> 1\u001b[0m \u001b[43mSet\u001b[49m\u001b[43m[\u001b[49m\u001b[38;5;241;43m0\u001b[39;49m\u001b[43m]\u001b[49m\n",
      "\u001b[1;31mTypeError\u001b[0m: 'set' object is not subscriptable"
     ]
    }
   ],
   "source": [
    "Set[0]"
   ]
  },
  {
   "cell_type": "code",
   "execution_count": 27,
   "id": "0e821c0d",
   "metadata": {},
   "outputs": [
    {
     "data": {
      "text/plain": [
       "{1, 2, 3, 4, 5, 6, 7}"
      ]
     },
     "execution_count": 27,
     "metadata": {},
     "output_type": "execute_result"
    }
   ],
   "source": [
    "Set1= {1,2,3,3,4,4,5,6,7,6}\n",
    "Set1"
   ]
  },
  {
   "cell_type": "code",
   "execution_count": null,
   "id": "945278c8",
   "metadata": {},
   "outputs": [],
   "source": [
    "Dictionary= a datatype that has data as in format of Key:value pair\n",
    "rule ={key:value}\n",
    "feature = every time we need to take the data as n the format key and value\n",
    "key is the mapping value , key can have only unique value\n",
    "value could be duplicate\n",
    "keyword = dict"
   ]
  },
  {
   "cell_type": "code",
   "execution_count": 28,
   "id": "a39e0834",
   "metadata": {},
   "outputs": [
    {
     "data": {
      "text/plain": [
       "3"
      ]
     },
     "execution_count": 28,
     "metadata": {},
     "output_type": "execute_result"
    }
   ],
   "source": [
    "Dict1= {\"key1\":5, \"Key2\":6,\"key3\":7}\n",
    "len(Dict1)"
   ]
  },
  {
   "cell_type": "code",
   "execution_count": null,
   "id": "3ad78694",
   "metadata": {},
   "outputs": [],
   "source": [
    "keys()"
   ]
  },
  {
   "cell_type": "code",
   "execution_count": 29,
   "id": "ae114f11",
   "metadata": {},
   "outputs": [
    {
     "data": {
      "text/plain": [
       "dict_keys(['Key1', 'Key2', 'key3'])"
      ]
     },
     "execution_count": 29,
     "metadata": {},
     "output_type": "execute_result"
    }
   ],
   "source": [
    "Dict1.keys()"
   ]
  },
  {
   "cell_type": "code",
   "execution_count": null,
   "id": "0a006eed",
   "metadata": {},
   "outputs": [],
   "source": [
    "values()"
   ]
  },
  {
   "cell_type": "code",
   "execution_count": 30,
   "id": "e59e1a30",
   "metadata": {},
   "outputs": [
    {
     "data": {
      "text/plain": [
       "dict_values([5, 6, 7])"
      ]
     },
     "execution_count": 30,
     "metadata": {},
     "output_type": "execute_result"
    }
   ],
   "source": [
    "Dict1.values()"
   ]
  },
  {
   "cell_type": "code",
   "execution_count": 33,
   "id": "f6760290",
   "metadata": {},
   "outputs": [
    {
     "data": {
      "text/plain": [
       "{1: 'Ram', 2: 'Gita'}"
      ]
     },
     "execution_count": 33,
     "metadata": {},
     "output_type": "execute_result"
    }
   ],
   "source": [
    "Dict2= {1:\"Ram\",2:\"Joye\",2:\"Gita\"}\n",
    "Dict2"
   ]
  },
  {
   "cell_type": "code",
   "execution_count": 34,
   "id": "7b14406d",
   "metadata": {},
   "outputs": [
    {
     "data": {
      "text/plain": [
       "20"
      ]
     },
     "execution_count": 34,
     "metadata": {},
     "output_type": "execute_result"
    }
   ],
   "source": [
    "a=10\n",
    "b=20\n",
    "a\n",
    "b"
   ]
  },
  {
   "cell_type": "code",
   "execution_count": null,
   "id": "b44f0a1f",
   "metadata": {},
   "outputs": [],
   "source": [
    "Type casting \n",
    "Converting one datatype into another\n",
    "Interger = int()\n",
    "Float= float()\n",
    "String = str()\n",
    "Boolean= bool()\n",
    "Tuple =tuple()\n",
    "List= list()\n",
    "Set=set()\n",
    "Dictionary excepction"
   ]
  },
  {
   "cell_type": "code",
   "execution_count": 35,
   "id": "09102679",
   "metadata": {},
   "outputs": [
    {
     "data": {
      "text/plain": [
       "str"
      ]
     },
     "execution_count": 35,
     "metadata": {},
     "output_type": "execute_result"
    }
   ],
   "source": [
    "st=\"1234\"\n",
    "type(st)"
   ]
  },
  {
   "cell_type": "code",
   "execution_count": 36,
   "id": "a8995a4c",
   "metadata": {},
   "outputs": [
    {
     "data": {
      "text/plain": [
       "1234"
      ]
     },
     "execution_count": 36,
     "metadata": {},
     "output_type": "execute_result"
    }
   ],
   "source": [
    "v=int(st)\n",
    "v"
   ]
  },
  {
   "cell_type": "code",
   "execution_count": 37,
   "id": "fc336941",
   "metadata": {},
   "outputs": [
    {
     "data": {
      "text/plain": [
       "int"
      ]
     },
     "execution_count": 37,
     "metadata": {},
     "output_type": "execute_result"
    }
   ],
   "source": [
    "type(v)"
   ]
  },
  {
   "cell_type": "code",
   "execution_count": 38,
   "id": "de536e32",
   "metadata": {},
   "outputs": [
    {
     "data": {
      "text/plain": [
       "'10'"
      ]
     },
     "execution_count": 38,
     "metadata": {},
     "output_type": "execute_result"
    }
   ],
   "source": [
    "c=10\n",
    "st1= str(c)\n",
    "st1"
   ]
  },
  {
   "cell_type": "code",
   "execution_count": 40,
   "id": "c118f5e0",
   "metadata": {},
   "outputs": [
    {
     "data": {
      "text/plain": [
       "str"
      ]
     },
     "execution_count": 40,
     "metadata": {},
     "output_type": "execute_result"
    }
   ],
   "source": [
    "type(st1)"
   ]
  },
  {
   "cell_type": "code",
   "execution_count": 43,
   "id": "a16f310c",
   "metadata": {},
   "outputs": [
    {
     "name": "stdout",
     "output_type": "stream",
     "text": [
      "<class 'tuple'>\n",
      "<class 'list'>\n"
     ]
    }
   ],
   "source": [
    "tup1 =(1,2,3,4,5)\n",
    "print(type(tup1))\n",
    "lis1= list(tup1)\n",
    "print(type(lis1))"
   ]
  },
  {
   "cell_type": "code",
   "execution_count": 44,
   "id": "72615170",
   "metadata": {},
   "outputs": [
    {
     "data": {
      "text/plain": [
       "{1, 2, 3, 4, 5}"
      ]
     },
     "execution_count": 44,
     "metadata": {},
     "output_type": "execute_result"
    }
   ],
   "source": [
    "lis3= [1,2,3,4,5]\n",
    "Set= set(lis3)\n",
    "Set"
   ]
  },
  {
   "cell_type": "markdown",
   "id": "128ce53f",
   "metadata": {},
   "source": [
    "Operators = a certain reserved keywords that are used to perform the operation on the data operator\n",
    "1.Arthematic\n",
    "2.Comaparison operator\n",
    "3. Logical operator\n",
    "4.identity operator\n",
    "5.Assignment operators"
   ]
  },
  {
   "cell_type": "markdown",
   "id": "c7073399",
   "metadata": {},
   "source": [
    "Arthematic = to perform all of the mathematical operation\n",
    "+ = add\n",
    "- = sub\n",
    "* = muliplication\n",
    "/=  division\n",
    "// = floor division\n",
    "% = remainder\n"
   ]
  },
  {
   "cell_type": "code",
   "execution_count": 45,
   "id": "91d8dc61",
   "metadata": {},
   "outputs": [],
   "source": [
    "x=10\n",
    "y=2"
   ]
  },
  {
   "cell_type": "code",
   "execution_count": 46,
   "id": "e5915846",
   "metadata": {},
   "outputs": [
    {
     "data": {
      "text/plain": [
       "12"
      ]
     },
     "execution_count": 46,
     "metadata": {},
     "output_type": "execute_result"
    }
   ],
   "source": [
    "x+y"
   ]
  },
  {
   "cell_type": "code",
   "execution_count": 47,
   "id": "ab251b0a",
   "metadata": {},
   "outputs": [
    {
     "data": {
      "text/plain": [
       "8"
      ]
     },
     "execution_count": 47,
     "metadata": {},
     "output_type": "execute_result"
    }
   ],
   "source": [
    "x-y"
   ]
  },
  {
   "cell_type": "code",
   "execution_count": 48,
   "id": "83453448",
   "metadata": {},
   "outputs": [
    {
     "data": {
      "text/plain": [
       "20"
      ]
     },
     "execution_count": 48,
     "metadata": {},
     "output_type": "execute_result"
    }
   ],
   "source": [
    "x*y"
   ]
  },
  {
   "cell_type": "code",
   "execution_count": 49,
   "id": "2c109160",
   "metadata": {},
   "outputs": [
    {
     "data": {
      "text/plain": [
       "5.0"
      ]
     },
     "execution_count": 49,
     "metadata": {},
     "output_type": "execute_result"
    }
   ],
   "source": [
    "# division output = float\n",
    "x/y"
   ]
  },
  {
   "cell_type": "code",
   "execution_count": 50,
   "id": "78b5418e",
   "metadata": {},
   "outputs": [
    {
     "data": {
      "text/plain": [
       "5"
      ]
     },
     "execution_count": 50,
     "metadata": {},
     "output_type": "execute_result"
    }
   ],
   "source": [
    "#// = division output= integer\n",
    "x//y"
   ]
  },
  {
   "cell_type": "code",
   "execution_count": 51,
   "id": "a6b5590b",
   "metadata": {},
   "outputs": [
    {
     "data": {
      "text/plain": [
       "0"
      ]
     },
     "execution_count": 51,
     "metadata": {},
     "output_type": "execute_result"
    }
   ],
   "source": [
    "x%y"
   ]
  },
  {
   "cell_type": "code",
   "execution_count": 52,
   "id": "56157c10",
   "metadata": {},
   "outputs": [
    {
     "data": {
      "text/plain": [
       "56.5"
      ]
     },
     "execution_count": 52,
     "metadata": {},
     "output_type": "execute_result"
    }
   ],
   "source": [
    "v=113\n",
    "z=2\n",
    "v/z"
   ]
  },
  {
   "cell_type": "markdown",
   "id": "b11579f2",
   "metadata": {},
   "source": [
    "2.Comparison operator =it is use to perform campraision between more than one data\n",
    ">  greater than\n",
    "<  smaller than\n",
    "==  equals to\n",
    "!= not equals to\n",
    ">=\n",
    "<="
   ]
  },
  {
   "cell_type": "code",
   "execution_count": 53,
   "id": "9333f4d9",
   "metadata": {},
   "outputs": [],
   "source": [
    "a=3\n",
    "b=2"
   ]
  },
  {
   "cell_type": "code",
   "execution_count": 54,
   "id": "b8f7ab18",
   "metadata": {},
   "outputs": [
    {
     "data": {
      "text/plain": [
       "True"
      ]
     },
     "execution_count": 54,
     "metadata": {},
     "output_type": "execute_result"
    }
   ],
   "source": [
    "a>b"
   ]
  },
  {
   "cell_type": "code",
   "execution_count": 55,
   "id": "ebc56181",
   "metadata": {},
   "outputs": [
    {
     "data": {
      "text/plain": [
       "False"
      ]
     },
     "execution_count": 55,
     "metadata": {},
     "output_type": "execute_result"
    }
   ],
   "source": [
    "a<b"
   ]
  },
  {
   "cell_type": "code",
   "execution_count": 56,
   "id": "8db627d6",
   "metadata": {},
   "outputs": [
    {
     "data": {
      "text/plain": [
       "False"
      ]
     },
     "execution_count": 56,
     "metadata": {},
     "output_type": "execute_result"
    }
   ],
   "source": [
    "a==b"
   ]
  },
  {
   "cell_type": "code",
   "execution_count": 57,
   "id": "231f98f6",
   "metadata": {},
   "outputs": [
    {
     "data": {
      "text/plain": [
       "True"
      ]
     },
     "execution_count": 57,
     "metadata": {},
     "output_type": "execute_result"
    }
   ],
   "source": [
    "a!=b"
   ]
  },
  {
   "cell_type": "code",
   "execution_count": 58,
   "id": "8ebe1e1c",
   "metadata": {},
   "outputs": [
    {
     "data": {
      "text/plain": [
       "True"
      ]
     },
     "execution_count": 58,
     "metadata": {},
     "output_type": "execute_result"
    }
   ],
   "source": [
    "a>=b"
   ]
  },
  {
   "cell_type": "code",
   "execution_count": 59,
   "id": "4c44ac4f",
   "metadata": {},
   "outputs": [
    {
     "data": {
      "text/plain": [
       "False"
      ]
     },
     "execution_count": 59,
     "metadata": {},
     "output_type": "execute_result"
    }
   ],
   "source": [
    "a<=b"
   ]
  },
  {
   "cell_type": "markdown",
   "id": "6bcaddc8",
   "metadata": {},
   "source": [
    "Logical operator= are used perfrom gates\n",
    "and  (True and True)  1 ,1\n",
    "or (True or False ) \n",
    "not  (False)"
   ]
  },
  {
   "cell_type": "code",
   "execution_count": 64,
   "id": "4e444ef5",
   "metadata": {},
   "outputs": [],
   "source": [
    "x=9\n",
    "y=6\n",
    "z=5\n"
   ]
  },
  {
   "cell_type": "code",
   "execution_count": 65,
   "id": "efac537d",
   "metadata": {},
   "outputs": [
    {
     "data": {
      "text/plain": [
       "True"
      ]
     },
     "execution_count": 65,
     "metadata": {},
     "output_type": "execute_result"
    }
   ],
   "source": [
    "x>y and x>z"
   ]
  },
  {
   "cell_type": "code",
   "execution_count": 66,
   "id": "f4fd86f9",
   "metadata": {},
   "outputs": [
    {
     "data": {
      "text/plain": [
       "True"
      ]
     },
     "execution_count": 66,
     "metadata": {},
     "output_type": "execute_result"
    }
   ],
   "source": [
    "y>x or y>z"
   ]
  },
  {
   "cell_type": "code",
   "execution_count": 67,
   "id": "2abbaf69",
   "metadata": {},
   "outputs": [],
   "source": [
    "a=10\n",
    "b=30"
   ]
  },
  {
   "cell_type": "code",
   "execution_count": 69,
   "id": "27d19cfe",
   "metadata": {},
   "outputs": [
    {
     "data": {
      "text/plain": [
       "False"
      ]
     },
     "execution_count": 69,
     "metadata": {},
     "output_type": "execute_result"
    }
   ],
   "source": [
    "not a<b"
   ]
  },
  {
   "cell_type": "code",
   "execution_count": null,
   "id": "1f93a0ec",
   "metadata": {},
   "outputs": [],
   "source": [
    "v=5\n",
    "z=4"
   ]
  },
  {
   "cell_type": "code",
   "execution_count": 70,
   "id": "f2ac6e62",
   "metadata": {},
   "outputs": [
    {
     "data": {
      "text/plain": [
       "True"
      ]
     },
     "execution_count": 70,
     "metadata": {},
     "output_type": "execute_result"
    }
   ],
   "source": [
    "v>z"
   ]
  },
  {
   "cell_type": "code",
   "execution_count": 71,
   "id": "88db3123",
   "metadata": {},
   "outputs": [
    {
     "data": {
      "text/plain": [
       "False"
      ]
     },
     "execution_count": 71,
     "metadata": {},
     "output_type": "execute_result"
    }
   ],
   "source": [
    "not v>z"
   ]
  },
  {
   "cell_type": "markdown",
   "id": "ca3df21b",
   "metadata": {},
   "source": [
    "identity operator =  identical to the other data\n",
    "is \n",
    "is not"
   ]
  },
  {
   "cell_type": "code",
   "execution_count": 72,
   "id": "16dd8795",
   "metadata": {},
   "outputs": [
    {
     "data": {
      "text/plain": [
       "True"
      ]
     },
     "execution_count": 72,
     "metadata": {},
     "output_type": "execute_result"
    }
   ],
   "source": [
    "a=5\n",
    "b=5\n",
    "a is b"
   ]
  },
  {
   "cell_type": "code",
   "execution_count": 73,
   "id": "ed5660b5",
   "metadata": {},
   "outputs": [
    {
     "data": {
      "text/plain": [
       "False"
      ]
     },
     "execution_count": 73,
     "metadata": {},
     "output_type": "execute_result"
    }
   ],
   "source": [
    "a= \"hello\"\n",
    "b=10\n",
    "a is b"
   ]
  },
  {
   "cell_type": "code",
   "execution_count": 74,
   "id": "7ca9ae28",
   "metadata": {},
   "outputs": [
    {
     "data": {
      "text/plain": [
       "False"
      ]
     },
     "execution_count": 74,
     "metadata": {},
     "output_type": "execute_result"
    }
   ],
   "source": [
    "v=5\n",
    "y=3\n",
    "v is y"
   ]
  },
  {
   "cell_type": "markdown",
   "id": "765e8ba7",
   "metadata": {},
   "source": [
    "is not  = not identical"
   ]
  },
  {
   "cell_type": "code",
   "execution_count": 75,
   "id": "62396aa8",
   "metadata": {},
   "outputs": [
    {
     "data": {
      "text/plain": [
       "True"
      ]
     },
     "execution_count": 75,
     "metadata": {},
     "output_type": "execute_result"
    }
   ],
   "source": [
    "a=5\n",
    "b=3\n",
    "a is not b  # both are not identical"
   ]
  },
  {
   "cell_type": "markdown",
   "id": "e6071d7a",
   "metadata": {},
   "source": [
    "Assignment operator= Use to assign a value to a varible\n",
    "=  \n",
    "+=\n",
    "-=\n",
    "*=\n",
    "/="
   ]
  },
  {
   "cell_type": "code",
   "execution_count": 76,
   "id": "e3875c8a",
   "metadata": {},
   "outputs": [
    {
     "data": {
      "text/plain": [
       "10"
      ]
     },
     "execution_count": 76,
     "metadata": {},
     "output_type": "execute_result"
    }
   ],
   "source": [
    "c=10\n",
    "c"
   ]
  },
  {
   "cell_type": "code",
   "execution_count": 77,
   "id": "f4bc34b0",
   "metadata": {},
   "outputs": [
    {
     "data": {
      "text/plain": [
       "11"
      ]
     },
     "execution_count": 77,
     "metadata": {},
     "output_type": "execute_result"
    }
   ],
   "source": [
    "#+=\n",
    "c+=1  # c= c+1\n",
    "c"
   ]
  },
  {
   "cell_type": "code",
   "execution_count": 78,
   "id": "ecf1d14c",
   "metadata": {},
   "outputs": [
    {
     "data": {
      "text/plain": [
       "4"
      ]
     },
     "execution_count": 78,
     "metadata": {},
     "output_type": "execute_result"
    }
   ],
   "source": [
    "v=5\n",
    "v-=1\n",
    "v"
   ]
  },
  {
   "cell_type": "code",
   "execution_count": 79,
   "id": "7fb68698",
   "metadata": {},
   "outputs": [
    {
     "data": {
      "text/plain": [
       "4"
      ]
     },
     "execution_count": 79,
     "metadata": {},
     "output_type": "execute_result"
    }
   ],
   "source": [
    "b=2\n",
    "b*=2 \n",
    "b"
   ]
  },
  {
   "cell_type": "markdown",
   "id": "0dc0267a",
   "metadata": {},
   "source": [
    "Conditional statement =it is used to make a decision over a program according to the situation\n",
    "\n",
    "if else \n",
    "syntax\n",
    "if condition:\n",
    "    statement\n",
    "else:\n",
    "    statement\n",
    "    "
   ]
  },
  {
   "cell_type": "code",
   "execution_count": 80,
   "id": "30c7ad2d",
   "metadata": {},
   "outputs": [
    {
     "name": "stdout",
     "output_type": "stream",
     "text": [
      " a is greater\n"
     ]
    }
   ],
   "source": [
    "a=30\n",
    "b=20\n",
    "# which one the greater\n",
    "if a>b:\n",
    "    print(\" a is greater\")\n",
    "else:\n",
    "    print(\"b is greater\")\n",
    "    "
   ]
  },
  {
   "cell_type": "code",
   "execution_count": 83,
   "id": "9231184b",
   "metadata": {},
   "outputs": [
    {
     "name": "stdout",
     "output_type": "stream",
     "text": [
      "y is greater\n"
     ]
    }
   ],
   "source": [
    "v=23\n",
    "y=55\n",
    "if v>y:\n",
    "    print(\" v is greater\")\n",
    "else:\n",
    "    print(\"y is greater\")"
   ]
  },
  {
   "cell_type": "markdown",
   "id": "1129ea66",
   "metadata": {},
   "source": [
    "Note = if would be the very first line of the conditional statement\n",
    "if the condition is not true so in  that case the another conditional block will run"
   ]
  },
  {
   "cell_type": "markdown",
   "id": "b75122c1",
   "metadata": {},
   "source": [
    "syntax \n",
    "if condition:\n",
    "    statement\n",
    "elif condition:\n",
    "    statement\n",
    "else :\n",
    "    statement"
   ]
  },
  {
   "cell_type": "code",
   "execution_count": 2,
   "id": "edb14c85",
   "metadata": {},
   "outputs": [
    {
     "name": "stdout",
     "output_type": "stream",
     "text": [
      "z is greatest\n"
     ]
    }
   ],
   "source": [
    "x=34          \n",
    "y=25   \n",
    "z=39\n",
    "if x>y and x>z:\n",
    "    print(\"x is the greatest number\")\n",
    "elif y>x and y>z:\n",
    "    print(\"y is greatest\")\n",
    "else:\n",
    "    print(\"z is greatest\")"
   ]
  },
  {
   "cell_type": "code",
   "execution_count": null,
   "id": "7ec60339",
   "metadata": {},
   "outputs": [],
   "source": []
  }
 ],
 "metadata": {
  "kernelspec": {
   "display_name": "Python 3 (ipykernel)",
   "language": "python",
   "name": "python3"
  },
  "language_info": {
   "codemirror_mode": {
    "name": "ipython",
    "version": 3
   },
   "file_extension": ".py",
   "mimetype": "text/x-python",
   "name": "python",
   "nbconvert_exporter": "python",
   "pygments_lexer": "ipython3",
   "version": "3.11.4"
  }
 },
 "nbformat": 4,
 "nbformat_minor": 5
}
